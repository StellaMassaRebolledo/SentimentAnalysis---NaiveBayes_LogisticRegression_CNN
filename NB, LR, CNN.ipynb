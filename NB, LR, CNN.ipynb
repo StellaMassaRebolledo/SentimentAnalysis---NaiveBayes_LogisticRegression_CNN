{
 "cells": [
  {
   "cell_type": "code",
   "execution_count": 1,
   "metadata": {
    "id": "Z-U63mf7bawG"
   },
   "outputs": [],
   "source": [
    "\n",
    "import os\n",
    "import random\n",
    "import pandas as pd\n",
    "import numpy as np\n",
    "import re\n",
    "import matplotlib.pyplot as plt\n",
    "from sklearn.feature_extraction.text import TfidfVectorizer\n",
    "from sklearn.preprocessing import LabelEncoder\n",
    "from sklearn.metrics import confusion_matrix\n",
    "from sklearn.metrics import accuracy_score\n",
    "from sklearn.model_selection import StratifiedShuffleSplit\n",
    "from sklearn.naive_bayes import MultinomialNB\n",
    "from sklearn.metrics import classification_report\n",
    "from sklearn.metrics import confusion_matrix\n",
    "import seaborn as sns\n",
    "from sklearn.model_selection import GridSearchCV\n",
    "from sklearn.model_selection import cross_val_score\n",
    "from gensim.models import KeyedVectors\n",
    "from sklearn.linear_model import LogisticRegression\n",
    "from keras.models import Sequential\n",
    "from keras.layers import Conv1D, GlobalMaxPooling1D,Dropout, Dense, Embedding, SpatialDropout1D, MaxPooling1D\n",
    "from keras.preprocessing.text import Tokenizer\n",
    "from keras.preprocessing.sequence import pad_sequences\n",
    "from keras.initializers import Constant\n",
    "from keras.utils import to_categorical\n",
    "from keras.callbacks import EarlyStopping"
   ]
  },
  {
   "cell_type": "markdown",
   "metadata": {
    "id": "YWYEti1-da6U"
   },
   "source": [
    "# Preparing the Data"
   ]
  },
  {
   "cell_type": "code",
   "execution_count": 2,
   "metadata": {
    "colab": {
     "base_uri": "https://localhost:8080/"
    },
    "id": "OVP4GhaRcJbU",
    "outputId": "f6a2c315-3c20-4023-ad5f-069274d89421"
   },
   "outputs": [
    {
     "name": "stdout",
     "output_type": "stream",
     "text": [
      "Mounted at /content/drive\n"
     ]
    }
   ],
   "source": [
    "from google.colab import drive\n",
    "drive.mount('/content/drive')"
   ]
  },
  {
   "cell_type": "code",
   "execution_count": 3,
   "metadata": {
    "id": "tTvrgT3fb2Dj"
   },
   "outputs": [],
   "source": [
    "#%% Load preprocessed data, and split into train a test\n",
    "new_data = pd.read_csv('/content/drive/MyDrive/NLP_PROJECT/df_train_test.csv')\n",
    "\n",
    "#TODO Combine summary and review into 1 column\n",
    "new_data['full_text'] = new_data['reviewText'] + \". \" + new_data['summary']\n",
    "\n",
    "new_data.columns\n",
    "\n",
    "#Define X and y\n",
    "X = new_data['full_text']\n",
    "y = pd.read_csv('/content/drive/MyDrive/NLP_PROJECT/y_train_test.csv')['label_encoded']\n",
    "#TODO Split data\n",
    "split = StratifiedShuffleSplit(n_splits = 1, test_size=0.3, random_state=00)\n",
    "\n",
    "# 30% testing | 70% training\n",
    "for train_index, test_index in split.split(X, y):\n",
    "    X_train,  X_test = X.iloc[train_index], X.iloc[test_index]\n",
    "    y_train, y_test = y.iloc[train_index], y.iloc[test_index]"
   ]
  },
  {
   "cell_type": "code",
   "execution_count": 4,
   "metadata": {
    "colab": {
     "base_uri": "https://localhost:8080/"
    },
    "id": "5908vnxeb2A1",
    "outputId": "db6dbf5d-9445-45fa-8658-d57524cf1da5"
   },
   "outputs": [
    {
     "name": "stdout",
     "output_type": "stream",
     "text": [
      "(30800,)\n",
      "(13200,)\n",
      "(30800,)\n",
      "(13200,)\n"
     ]
    }
   ],
   "source": [
    "print(X_train.shape)\n",
    "print(X_test.shape)\n",
    "print(y_train.shape)\n",
    "print(y_test.shape)"
   ]
  },
  {
   "cell_type": "code",
   "execution_count": 5,
   "metadata": {
    "colab": {
     "base_uri": "https://localhost:8080/"
    },
    "id": "Jpzo7IBSdsH3",
    "outputId": "018f70bc-76dd-4a47-9a26-44454fa0985d"
   },
   "outputs": [
    {
     "data": {
      "text/plain": [
       "pandas.core.series.Series"
      ]
     },
     "execution_count": 5,
     "metadata": {},
     "output_type": "execute_result"
    }
   ],
   "source": [
    "type(X_train)"
   ]
  },
  {
   "cell_type": "markdown",
   "metadata": {
    "id": "EDjbuwpjdWxr"
   },
   "source": [
    "## TFIDF"
   ]
  },
  {
   "cell_type": "code",
   "execution_count": 6,
   "metadata": {
    "id": "ssU3fMgUb19x"
   },
   "outputs": [],
   "source": [
    "tfidf = TfidfVectorizer()\n",
    "\n",
    "# # # Applying to all X variables\n",
    "\n",
    "# X_train Basic\n",
    "X_trainTf = tfidf.fit_transform(X_train)\n",
    "\n",
    "# X_test Basic -- only transform\n",
    "X_testTf = tfidf.transform(X_test)"
   ]
  },
  {
   "cell_type": "markdown",
   "metadata": {
    "id": "Ae-YJv05d5bc"
   },
   "source": [
    "# Naive Bayes"
   ]
  },
  {
   "cell_type": "code",
   "execution_count": 7,
   "metadata": {
    "colab": {
     "base_uri": "https://localhost:8080/",
     "height": 118
    },
    "id": "X1U5by5Db17R",
    "outputId": "122d4084-a198-491f-c5b3-699b7dee506a"
   },
   "outputs": [
    {
     "data": {
      "text/html": [
       "<style>#sk-container-id-1 {color: black;background-color: white;}#sk-container-id-1 pre{padding: 0;}#sk-container-id-1 div.sk-toggleable {background-color: white;}#sk-container-id-1 label.sk-toggleable__label {cursor: pointer;display: block;width: 100%;margin-bottom: 0;padding: 0.3em;box-sizing: border-box;text-align: center;}#sk-container-id-1 label.sk-toggleable__label-arrow:before {content: \"▸\";float: left;margin-right: 0.25em;color: #696969;}#sk-container-id-1 label.sk-toggleable__label-arrow:hover:before {color: black;}#sk-container-id-1 div.sk-estimator:hover label.sk-toggleable__label-arrow:before {color: black;}#sk-container-id-1 div.sk-toggleable__content {max-height: 0;max-width: 0;overflow: hidden;text-align: left;background-color: #f0f8ff;}#sk-container-id-1 div.sk-toggleable__content pre {margin: 0.2em;color: black;border-radius: 0.25em;background-color: #f0f8ff;}#sk-container-id-1 input.sk-toggleable__control:checked~div.sk-toggleable__content {max-height: 200px;max-width: 100%;overflow: auto;}#sk-container-id-1 input.sk-toggleable__control:checked~label.sk-toggleable__label-arrow:before {content: \"▾\";}#sk-container-id-1 div.sk-estimator input.sk-toggleable__control:checked~label.sk-toggleable__label {background-color: #d4ebff;}#sk-container-id-1 div.sk-label input.sk-toggleable__control:checked~label.sk-toggleable__label {background-color: #d4ebff;}#sk-container-id-1 input.sk-hidden--visually {border: 0;clip: rect(1px 1px 1px 1px);clip: rect(1px, 1px, 1px, 1px);height: 1px;margin: -1px;overflow: hidden;padding: 0;position: absolute;width: 1px;}#sk-container-id-1 div.sk-estimator {font-family: monospace;background-color: #f0f8ff;border: 1px dotted black;border-radius: 0.25em;box-sizing: border-box;margin-bottom: 0.5em;}#sk-container-id-1 div.sk-estimator:hover {background-color: #d4ebff;}#sk-container-id-1 div.sk-parallel-item::after {content: \"\";width: 100%;border-bottom: 1px solid gray;flex-grow: 1;}#sk-container-id-1 div.sk-label:hover label.sk-toggleable__label {background-color: #d4ebff;}#sk-container-id-1 div.sk-serial::before {content: \"\";position: absolute;border-left: 1px solid gray;box-sizing: border-box;top: 0;bottom: 0;left: 50%;z-index: 0;}#sk-container-id-1 div.sk-serial {display: flex;flex-direction: column;align-items: center;background-color: white;padding-right: 0.2em;padding-left: 0.2em;position: relative;}#sk-container-id-1 div.sk-item {position: relative;z-index: 1;}#sk-container-id-1 div.sk-parallel {display: flex;align-items: stretch;justify-content: center;background-color: white;position: relative;}#sk-container-id-1 div.sk-item::before, #sk-container-id-1 div.sk-parallel-item::before {content: \"\";position: absolute;border-left: 1px solid gray;box-sizing: border-box;top: 0;bottom: 0;left: 50%;z-index: -1;}#sk-container-id-1 div.sk-parallel-item {display: flex;flex-direction: column;z-index: 1;position: relative;background-color: white;}#sk-container-id-1 div.sk-parallel-item:first-child::after {align-self: flex-end;width: 50%;}#sk-container-id-1 div.sk-parallel-item:last-child::after {align-self: flex-start;width: 50%;}#sk-container-id-1 div.sk-parallel-item:only-child::after {width: 0;}#sk-container-id-1 div.sk-dashed-wrapped {border: 1px dashed gray;margin: 0 0.4em 0.5em 0.4em;box-sizing: border-box;padding-bottom: 0.4em;background-color: white;}#sk-container-id-1 div.sk-label label {font-family: monospace;font-weight: bold;display: inline-block;line-height: 1.2em;}#sk-container-id-1 div.sk-label-container {text-align: center;}#sk-container-id-1 div.sk-container {/* jupyter's `normalize.less` sets `[hidden] { display: none; }` but bootstrap.min.css set `[hidden] { display: none !important; }` so we also need the `!important` here to be able to override the default hidden behavior on the sphinx rendered scikit-learn.org. See: https://github.com/scikit-learn/scikit-learn/issues/21755 */display: inline-block !important;position: relative;}#sk-container-id-1 div.sk-text-repr-fallback {display: none;}</style><div id=\"sk-container-id-1\" class=\"sk-top-container\"><div class=\"sk-text-repr-fallback\"><pre>GridSearchCV(estimator=MultinomialNB(),\n",
       "             param_grid={&#x27;alpha&#x27;: [0.001, 0.005, 0.01, 0.05, 0.1, 0.2, 0.5, 1.0,\n",
       "                                   2.0, 5.0, 10.0]})</pre><b>In a Jupyter environment, please rerun this cell to show the HTML representation or trust the notebook. <br />On GitHub, the HTML representation is unable to render, please try loading this page with nbviewer.org.</b></div><div class=\"sk-container\" hidden><div class=\"sk-item sk-dashed-wrapped\"><div class=\"sk-label-container\"><div class=\"sk-label sk-toggleable\"><input class=\"sk-toggleable__control sk-hidden--visually\" id=\"sk-estimator-id-1\" type=\"checkbox\" ><label for=\"sk-estimator-id-1\" class=\"sk-toggleable__label sk-toggleable__label-arrow\">GridSearchCV</label><div class=\"sk-toggleable__content\"><pre>GridSearchCV(estimator=MultinomialNB(),\n",
       "             param_grid={&#x27;alpha&#x27;: [0.001, 0.005, 0.01, 0.05, 0.1, 0.2, 0.5, 1.0,\n",
       "                                   2.0, 5.0, 10.0]})</pre></div></div></div><div class=\"sk-parallel\"><div class=\"sk-parallel-item\"><div class=\"sk-item\"><div class=\"sk-label-container\"><div class=\"sk-label sk-toggleable\"><input class=\"sk-toggleable__control sk-hidden--visually\" id=\"sk-estimator-id-2\" type=\"checkbox\" ><label for=\"sk-estimator-id-2\" class=\"sk-toggleable__label sk-toggleable__label-arrow\">estimator: MultinomialNB</label><div class=\"sk-toggleable__content\"><pre>MultinomialNB()</pre></div></div></div><div class=\"sk-serial\"><div class=\"sk-item\"><div class=\"sk-estimator sk-toggleable\"><input class=\"sk-toggleable__control sk-hidden--visually\" id=\"sk-estimator-id-3\" type=\"checkbox\" ><label for=\"sk-estimator-id-3\" class=\"sk-toggleable__label sk-toggleable__label-arrow\">MultinomialNB</label><div class=\"sk-toggleable__content\"><pre>MultinomialNB()</pre></div></div></div></div></div></div></div></div></div></div>"
      ],
      "text/plain": [
       "GridSearchCV(estimator=MultinomialNB(),\n",
       "             param_grid={'alpha': [0.001, 0.005, 0.01, 0.05, 0.1, 0.2, 0.5, 1.0,\n",
       "                                   2.0, 5.0, 10.0]})"
      ]
     },
     "execution_count": 7,
     "metadata": {},
     "output_type": "execute_result"
    }
   ],
   "source": [
    "nb = MultinomialNB()\n",
    "\n",
    "# HyperParam Tuning -- GridSearch\n",
    "#Default alpha = 1\n",
    "param_grid = {'alpha': [0.001, 0.005, 0.01, 0.05, 0.1, 0.2, 0.5, 1.0, 2.0, 5.0, 10.0]}\n",
    "\n",
    "grid_nb = GridSearchCV(nb, param_grid)\n",
    "grid_nb.fit(X_trainTf, y_train) # -------> Fitting"
   ]
  },
  {
   "cell_type": "code",
   "execution_count": 8,
   "metadata": {
    "colab": {
     "base_uri": "https://localhost:8080/"
    },
    "id": "PCbrt-49b141",
    "outputId": "d2af12b8-147e-4635-ac4e-4e5125fc66f9"
   },
   "outputs": [
    {
     "name": "stdout",
     "output_type": "stream",
     "text": [
      "{'alpha': 0.05}\n",
      "MultinomialNB(alpha=0.05)\n"
     ]
    }
   ],
   "source": [
    "bestParams = grid_nb.best_params_\n",
    "print(bestParams)\n",
    "\n",
    "best_model = grid_nb.best_estimator_\n",
    "print(best_model)"
   ]
  },
  {
   "cell_type": "code",
   "execution_count": 9,
   "metadata": {
    "colab": {
     "base_uri": "https://localhost:8080/"
    },
    "id": "5VBUTc8Db12E",
    "outputId": "b516acc5-da50-47ab-9b2a-e167ba4cccc0"
   },
   "outputs": [
    {
     "name": "stdout",
     "output_type": "stream",
     "text": [
      "All scores: [0.79058442 0.79318182 0.8038961  0.80032468 0.80292208 0.80097403\n",
      " 0.80422078 0.79415584 0.80422078 0.81233766]\n",
      "Average score: 0.8006818181818183\n"
     ]
    }
   ],
   "source": [
    "# Using Cross Validation Score\n",
    "scores = cross_val_score(best_model, X_trainTf, y_train, cv=10, scoring=\"accuracy\")\n",
    "\n",
    "print ('All scores:', scores)\n",
    "print  ('Average score:', scores.mean())"
   ]
  },
  {
   "cell_type": "code",
   "execution_count": 10,
   "metadata": {
    "colab": {
     "base_uri": "https://localhost:8080/"
    },
    "id": "hXXWwZXlb1zS",
    "outputId": "becc14b7-409b-4b47-b2eb-90566ee25940"
   },
   "outputs": [
    {
     "name": "stdout",
     "output_type": "stream",
     "text": [
      "[[3570  689  141]\n",
      " [ 668 3438  294]\n",
      " [ 309  418 3673]]\n"
     ]
    }
   ],
   "source": [
    "# # # Testing Set\n",
    "nb_Pred = best_model.predict(X_testTf)\n",
    "cmtest = confusion_matrix(y_test, nb_Pred, labels = np.arange(0,3))\n",
    "\n",
    "print (cmtest)"
   ]
  },
  {
   "cell_type": "code",
   "execution_count": 11,
   "metadata": {
    "colab": {
     "base_uri": "https://localhost:8080/",
     "height": 472
    },
    "id": "8lnJF9qTb1wR",
    "outputId": "eba6ea7f-ff5b-4e0a-bf3b-fe1f674333dd"
   },
   "outputs": [
    {
     "data": {
      "image/png": "[encoded data removed]",
      "text/plain": [
       "<Figure size 640x480 with 2 Axes>"
      ]
     },
     "metadata": {},
     "output_type": "display_data"
    }
   ],
   "source": [
    "# Plotting Confusion Matrix\n",
    "target_names=['negative', 'neutral', 'positive']\n",
    "\n",
    "axTft = sns.heatmap(cmtest, annot=True, annot_kws={'size': 9},fmt='g', xticklabels=target_names, yticklabels=target_names, cmap='Blues', linewidths=1, linecolor='black')\n",
    "axTft.set_xlabel ('Predicted', fontsize=10)\n",
    "axTft.set_ylabel('True', fontsize=10)\n",
    "plt.title ('Confusion Matrix - Testing Set')\n",
    "plt.axis()\n",
    "plt.show()"
   ]
  },
  {
   "cell_type": "code",
   "execution_count": 12,
   "metadata": {
    "colab": {
     "base_uri": "https://localhost:8080/"
    },
    "id": "l4a4mx4ob1sx",
    "outputId": "67b010d9-3fea-48d0-9db0-a7bb8758c3f9"
   },
   "outputs": [
    {
     "name": "stdout",
     "output_type": "stream",
     "text": [
      "              precision    recall  f1-score   support\n",
      "\n",
      "    negative       0.79      0.81      0.80      4400\n",
      "     neutral       0.76      0.78      0.77      4400\n",
      "    positive       0.89      0.83      0.86      4400\n",
      "\n",
      "    accuracy                           0.81     13200\n",
      "   macro avg       0.81      0.81      0.81     13200\n",
      "weighted avg       0.81      0.81      0.81     13200\n",
      "\n"
     ]
    }
   ],
   "source": [
    "# Report Testing\n",
    "nb_report = classification_report(y_test, nb_Pred, target_names=target_names)\n",
    "print(nb_report)"
   ]
  },
  {
   "cell_type": "markdown",
   "metadata": {
    "id": "eF89srrefvrf"
   },
   "source": [
    "# Logistic Regression"
   ]
  },
  {
   "cell_type": "markdown",
   "metadata": {
    "id": "JXPqggUZfzvf"
   },
   "source": [
    "Embeddings"
   ]
  },
  {
   "cell_type": "code",
   "execution_count": 13,
   "metadata": {
    "colab": {
     "base_uri": "https://localhost:8080/"
    },
    "id": "TDvIbJudfveP",
    "outputId": "f8abca57-111e-4318-bada-3281dbfd2f40"
   },
   "outputs": [
    {
     "name": "stdout",
     "output_type": "stream",
     "text": [
      "30800\n",
      "13200\n"
     ]
    }
   ],
   "source": [
    "word2vec_path = '/content/drive/MyDrive/NLP_PROJECT/GoogleNews-vectors-negative300.bin'\n",
    "\n",
    "# Load the model\n",
    "w2v_model = KeyedVectors.load_word2vec_format(word2vec_path, binary=True)\n",
    "\n",
    "\n",
    "\n",
    "def embedding_feats(rows):\n",
    "    DIMENSION = 300\n",
    "    feats = []\n",
    "    for tokens in rows:\n",
    "        feat_for_this = np.zeros(DIMENSION)\n",
    "        count_for_this = 0\n",
    "        for token in tokens:\n",
    "            if token in w2v_model:\n",
    "                feat_for_this += w2v_model[token]\n",
    "                count_for_this += 1\n",
    "        if count_for_this > 0:\n",
    "            feats.append(feat_for_this / count_for_this)\n",
    "        else:\n",
    "            feats.append(np.zeros(DIMENSION))  # Replace nan with zeros\n",
    "\n",
    "    return feats\n",
    "\n",
    "\n",
    "train_vectors = embedding_feats(X_train)\n",
    "print(len(train_vectors))\n",
    "\n",
    "test_vectors = embedding_feats (X_test)\n",
    "print(len(test_vectors))"
   ]
  },
  {
   "cell_type": "code",
   "execution_count": 14,
   "metadata": {
    "colab": {
     "base_uri": "https://localhost:8080/"
    },
    "id": "PVKMaLSdkYYK",
    "outputId": "0f61bb33-90e2-421f-f0d9-6feb88b1dadb"
   },
   "outputs": [
    {
     "name": "stdout",
     "output_type": "stream",
     "text": [
      "Number of nan values in train_vectors: 0\n",
      "Number of nan values in test_vectors: 0\n"
     ]
    }
   ],
   "source": [
    "nan_indices_train = np.isnan(train_vectors).any(axis=1)\n",
    "print(\"Number of nan values in train_vectors:\", np.sum(nan_indices_train))\n",
    "\n",
    "# Check for nan values in test_vectors\n",
    "nan_indices_test = np.isnan(test_vectors).any(axis=1)\n",
    "print(\"Number of nan values in test_vectors:\", np.sum(nan_indices_test))"
   ]
  },
  {
   "cell_type": "markdown",
   "metadata": {
    "id": "CpOaGwENhUHK"
   },
   "source": [
    "## Model TF-IDF"
   ]
  },
  {
   "cell_type": "code",
   "execution_count": 15,
   "metadata": {
    "colab": {
     "base_uri": "https://localhost:8080/",
     "height": 118
    },
    "id": "wxzdeKPTfvbe",
    "outputId": "db3ec9cc-04b0-43a4-ea6a-6e0496092193"
   },
   "outputs": [
    {
     "data": {
      "text/html": [
       "<style>#sk-container-id-2 {color: black;background-color: white;}#sk-container-id-2 pre{padding: 0;}#sk-container-id-2 div.sk-toggleable {background-color: white;}#sk-container-id-2 label.sk-toggleable__label {cursor: pointer;display: block;width: 100%;margin-bottom: 0;padding: 0.3em;box-sizing: border-box;text-align: center;}#sk-container-id-2 label.sk-toggleable__label-arrow:before {content: \"▸\";float: left;margin-right: 0.25em;color: #696969;}#sk-container-id-2 label.sk-toggleable__label-arrow:hover:before {color: black;}#sk-container-id-2 div.sk-estimator:hover label.sk-toggleable__label-arrow:before {color: black;}#sk-container-id-2 div.sk-toggleable__content {max-height: 0;max-width: 0;overflow: hidden;text-align: left;background-color: #f0f8ff;}#sk-container-id-2 div.sk-toggleable__content pre {margin: 0.2em;color: black;border-radius: 0.25em;background-color: #f0f8ff;}#sk-container-id-2 input.sk-toggleable__control:checked~div.sk-toggleable__content {max-height: 200px;max-width: 100%;overflow: auto;}#sk-container-id-2 input.sk-toggleable__control:checked~label.sk-toggleable__label-arrow:before {content: \"▾\";}#sk-container-id-2 div.sk-estimator input.sk-toggleable__control:checked~label.sk-toggleable__label {background-color: #d4ebff;}#sk-container-id-2 div.sk-label input.sk-toggleable__control:checked~label.sk-toggleable__label {background-color: #d4ebff;}#sk-container-id-2 input.sk-hidden--visually {border: 0;clip: rect(1px 1px 1px 1px);clip: rect(1px, 1px, 1px, 1px);height: 1px;margin: -1px;overflow: hidden;padding: 0;position: absolute;width: 1px;}#sk-container-id-2 div.sk-estimator {font-family: monospace;background-color: #f0f8ff;border: 1px dotted black;border-radius: 0.25em;box-sizing: border-box;margin-bottom: 0.5em;}#sk-container-id-2 div.sk-estimator:hover {background-color: #d4ebff;}#sk-container-id-2 div.sk-parallel-item::after {content: \"\";width: 100%;border-bottom: 1px solid gray;flex-grow: 1;}#sk-container-id-2 div.sk-label:hover label.sk-toggleable__label {background-color: #d4ebff;}#sk-container-id-2 div.sk-serial::before {content: \"\";position: absolute;border-left: 1px solid gray;box-sizing: border-box;top: 0;bottom: 0;left: 50%;z-index: 0;}#sk-container-id-2 div.sk-serial {display: flex;flex-direction: column;align-items: center;background-color: white;padding-right: 0.2em;padding-left: 0.2em;position: relative;}#sk-container-id-2 div.sk-item {position: relative;z-index: 1;}#sk-container-id-2 div.sk-parallel {display: flex;align-items: stretch;justify-content: center;background-color: white;position: relative;}#sk-container-id-2 div.sk-item::before, #sk-container-id-2 div.sk-parallel-item::before {content: \"\";position: absolute;border-left: 1px solid gray;box-sizing: border-box;top: 0;bottom: 0;left: 50%;z-index: -1;}#sk-container-id-2 div.sk-parallel-item {display: flex;flex-direction: column;z-index: 1;position: relative;background-color: white;}#sk-container-id-2 div.sk-parallel-item:first-child::after {align-self: flex-end;width: 50%;}#sk-container-id-2 div.sk-parallel-item:last-child::after {align-self: flex-start;width: 50%;}#sk-container-id-2 div.sk-parallel-item:only-child::after {width: 0;}#sk-container-id-2 div.sk-dashed-wrapped {border: 1px dashed gray;margin: 0 0.4em 0.5em 0.4em;box-sizing: border-box;padding-bottom: 0.4em;background-color: white;}#sk-container-id-2 div.sk-label label {font-family: monospace;font-weight: bold;display: inline-block;line-height: 1.2em;}#sk-container-id-2 div.sk-label-container {text-align: center;}#sk-container-id-2 div.sk-container {/* jupyter's `normalize.less` sets `[hidden] { display: none; }` but bootstrap.min.css set `[hidden] { display: none !important; }` so we also need the `!important` here to be able to override the default hidden behavior on the sphinx rendered scikit-learn.org. See: https://github.com/scikit-learn/scikit-learn/issues/21755 */display: inline-block !important;position: relative;}#sk-container-id-2 div.sk-text-repr-fallback {display: none;}</style><div id=\"sk-container-id-2\" class=\"sk-top-container\"><div class=\"sk-text-repr-fallback\"><pre>GridSearchCV(estimator=LogisticRegression(max_iter=500),\n",
       "             param_grid={&#x27;C&#x27;: [0.001, 0.01, 0.1, 1, 10],\n",
       "                         &#x27;solver&#x27;: [&#x27;newton-cg&#x27;, &#x27;sag&#x27;, &#x27;saga&#x27;, &#x27;lbfgs&#x27;]})</pre><b>In a Jupyter environment, please rerun this cell to show the HTML representation or trust the notebook. <br />On GitHub, the HTML representation is unable to render, please try loading this page with nbviewer.org.</b></div><div class=\"sk-container\" hidden><div class=\"sk-item sk-dashed-wrapped\"><div class=\"sk-label-container\"><div class=\"sk-label sk-toggleable\"><input class=\"sk-toggleable__control sk-hidden--visually\" id=\"sk-estimator-id-4\" type=\"checkbox\" ><label for=\"sk-estimator-id-4\" class=\"sk-toggleable__label sk-toggleable__label-arrow\">GridSearchCV</label><div class=\"sk-toggleable__content\"><pre>GridSearchCV(estimator=LogisticRegression(max_iter=500),\n",
       "             param_grid={&#x27;C&#x27;: [0.001, 0.01, 0.1, 1, 10],\n",
       "                         &#x27;solver&#x27;: [&#x27;newton-cg&#x27;, &#x27;sag&#x27;, &#x27;saga&#x27;, &#x27;lbfgs&#x27;]})</pre></div></div></div><div class=\"sk-parallel\"><div class=\"sk-parallel-item\"><div class=\"sk-item\"><div class=\"sk-label-container\"><div class=\"sk-label sk-toggleable\"><input class=\"sk-toggleable__control sk-hidden--visually\" id=\"sk-estimator-id-5\" type=\"checkbox\" ><label for=\"sk-estimator-id-5\" class=\"sk-toggleable__label sk-toggleable__label-arrow\">estimator: LogisticRegression</label><div class=\"sk-toggleable__content\"><pre>LogisticRegression(max_iter=500)</pre></div></div></div><div class=\"sk-serial\"><div class=\"sk-item\"><div class=\"sk-estimator sk-toggleable\"><input class=\"sk-toggleable__control sk-hidden--visually\" id=\"sk-estimator-id-6\" type=\"checkbox\" ><label for=\"sk-estimator-id-6\" class=\"sk-toggleable__label sk-toggleable__label-arrow\">LogisticRegression</label><div class=\"sk-toggleable__content\"><pre>LogisticRegression(max_iter=500)</pre></div></div></div></div></div></div></div></div></div></div>"
      ],
      "text/plain": [
       "GridSearchCV(estimator=LogisticRegression(max_iter=500),\n",
       "             param_grid={'C': [0.001, 0.01, 0.1, 1, 10],\n",
       "                         'solver': ['newton-cg', 'sag', 'saga', 'lbfgs']})"
      ]
     },
     "execution_count": 15,
     "metadata": {},
     "output_type": "execute_result"
    }
   ],
   "source": [
    "max_iter = 500\n",
    "verbose = 100\n",
    "\n",
    "lr = LogisticRegression(max_iter=max_iter)\n",
    "\n",
    "# # # Hyperparam tunning\n",
    "param_grid = {'C': [0.001, 0.01, 0.1, 1, 10],   # Inverse of regularization strength\n",
    "    'solver': ['newton-cg', 'sag', 'saga', 'lbfgs']}\n",
    "\n",
    "\n",
    "grid_lr = GridSearchCV(lr, param_grid)\n",
    "grid_lr.fit(X_trainTf, y_train)"
   ]
  },
  {
   "cell_type": "code",
   "execution_count": 16,
   "metadata": {
    "colab": {
     "base_uri": "https://localhost:8080/"
    },
    "id": "x9QPviHHfvYr",
    "outputId": "21b5bfa6-c886-4e9d-a1fb-2d63a0421119"
   },
   "outputs": [
    {
     "name": "stdout",
     "output_type": "stream",
     "text": [
      "{'C': 10, 'solver': 'sag'}\n",
      "LogisticRegression(C=10, max_iter=500, solver='sag')\n"
     ]
    }
   ],
   "source": [
    "bestParamsLr = grid_lr.best_params_\n",
    "print (bestParamsLr)\n",
    "\n",
    "bestEstLr = grid_lr.best_estimator_\n",
    "print(bestEstLr)"
   ]
  },
  {
   "cell_type": "code",
   "execution_count": 17,
   "metadata": {
    "colab": {
     "base_uri": "https://localhost:8080/"
    },
    "id": "EYqJgW3OfvV9",
    "outputId": "5f058635-19fa-42e8-ef3d-7aa4046f9e0d"
   },
   "outputs": [
    {
     "name": "stdout",
     "output_type": "stream",
     "text": [
      "All scores: [0.85454545 0.85194805 0.85616883 0.8487013  0.85064935 0.86103896\n",
      " 0.86525974 0.8461039  0.86753247 0.85681818]\n",
      "Average score: 0.8558766233766233\n"
     ]
    }
   ],
   "source": [
    "scoreLr = cross_val_score(bestEstLr, X_trainTf, y_train, scoring='accuracy',\n",
    "                          cv=10)\n",
    "\n",
    "print ('All scores:', scoreLr)\n",
    "print  ('Average score:', scoreLr.mean())"
   ]
  },
  {
   "cell_type": "code",
   "execution_count": 18,
   "metadata": {
    "colab": {
     "base_uri": "https://localhost:8080/"
    },
    "id": "N2p7Qex3fvSp",
    "outputId": "69e6f3e7-8741-4701-b73b-476aa8616d60"
   },
   "outputs": [
    {
     "name": "stdout",
     "output_type": "stream",
     "text": [
      "[[3732  529  139]\n",
      " [ 402 3802  196]\n",
      " [ 183  352 3865]]\n"
     ]
    }
   ],
   "source": [
    "# # # Testing Set\n",
    "Lr_pred = bestEstLr.predict(X_testTf)\n",
    "cmLr = confusion_matrix(y_test, Lr_pred, labels = np.arange(0,3))\n",
    "\n",
    "print (cmLr)"
   ]
  },
  {
   "cell_type": "code",
   "execution_count": 19,
   "metadata": {
    "colab": {
     "base_uri": "https://localhost:8080/",
     "height": 472
    },
    "id": "TXjzdb0aiBLR",
    "outputId": "3c9d10bf-809c-4f38-aa92-53b22f6166f0"
   },
   "outputs": [
    {
     "data": {
      "image/png": "[encoded data removed]",
      "text/plain": [
       "<Figure size 640x480 with 2 Axes>"
      ]
     },
     "metadata": {},
     "output_type": "display_data"
    }
   ],
   "source": [
    "# # Confusion Matrix\n",
    "\n",
    "axLr = sns.heatmap(cmLr, annot=True, annot_kws={'size': 9},fmt='g', xticklabels=target_names, yticklabels=target_names, cmap='Blues', linewidths=1, linecolor='black')\n",
    "axLr.set_xlabel ('Predicted', fontsize=10)\n",
    "axLr.set_ylabel('True', fontsize=10)\n",
    "plt.title ('Confusion Matrix - LR Testing Set')\n",
    "plt.axis()\n",
    "plt.show()"
   ]
  },
  {
   "cell_type": "code",
   "execution_count": 20,
   "metadata": {
    "colab": {
     "base_uri": "https://localhost:8080/"
    },
    "id": "TfRdJ7Y9iBIA",
    "outputId": "4d8d6e3f-fa1b-4a5d-9bb3-0cd6b4b68ae8"
   },
   "outputs": [
    {
     "name": "stdout",
     "output_type": "stream",
     "text": [
      "              precision    recall  f1-score   support\n",
      "\n",
      "    negative       0.86      0.85      0.86      4400\n",
      "     neutral       0.81      0.86      0.84      4400\n",
      "    positive       0.92      0.88      0.90      4400\n",
      "\n",
      "    accuracy                           0.86     13200\n",
      "   macro avg       0.87      0.86      0.86     13200\n",
      "weighted avg       0.87      0.86      0.86     13200\n",
      "\n"
     ]
    }
   ],
   "source": [
    "# Report Testing\n",
    "LrReport = classification_report(y_test, Lr_pred, target_names=target_names)\n",
    "print(LrReport)"
   ]
  },
  {
   "cell_type": "markdown",
   "metadata": {
    "id": "5p56RRfsjKjx"
   },
   "source": [
    "## Model - Embeddings"
   ]
  },
  {
   "cell_type": "code",
   "execution_count": 21,
   "metadata": {
    "colab": {
     "base_uri": "https://localhost:8080/",
     "height": 118
    },
    "id": "8nfgfAGOiBFB",
    "outputId": "e0b1c5b0-ee99-4d7a-cb04-0ac2eb69eb57"
   },
   "outputs": [
    {
     "data": {
      "text/html": [
       "<style>#sk-container-id-3 {color: black;background-color: white;}#sk-container-id-3 pre{padding: 0;}#sk-container-id-3 div.sk-toggleable {background-color: white;}#sk-container-id-3 label.sk-toggleable__label {cursor: pointer;display: block;width: 100%;margin-bottom: 0;padding: 0.3em;box-sizing: border-box;text-align: center;}#sk-container-id-3 label.sk-toggleable__label-arrow:before {content: \"▸\";float: left;margin-right: 0.25em;color: #696969;}#sk-container-id-3 label.sk-toggleable__label-arrow:hover:before {color: black;}#sk-container-id-3 div.sk-estimator:hover label.sk-toggleable__label-arrow:before {color: black;}#sk-container-id-3 div.sk-toggleable__content {max-height: 0;max-width: 0;overflow: hidden;text-align: left;background-color: #f0f8ff;}#sk-container-id-3 div.sk-toggleable__content pre {margin: 0.2em;color: black;border-radius: 0.25em;background-color: #f0f8ff;}#sk-container-id-3 input.sk-toggleable__control:checked~div.sk-toggleable__content {max-height: 200px;max-width: 100%;overflow: auto;}#sk-container-id-3 input.sk-toggleable__control:checked~label.sk-toggleable__label-arrow:before {content: \"▾\";}#sk-container-id-3 div.sk-estimator input.sk-toggleable__control:checked~label.sk-toggleable__label {background-color: #d4ebff;}#sk-container-id-3 div.sk-label input.sk-toggleable__control:checked~label.sk-toggleable__label {background-color: #d4ebff;}#sk-container-id-3 input.sk-hidden--visually {border: 0;clip: rect(1px 1px 1px 1px);clip: rect(1px, 1px, 1px, 1px);height: 1px;margin: -1px;overflow: hidden;padding: 0;position: absolute;width: 1px;}#sk-container-id-3 div.sk-estimator {font-family: monospace;background-color: #f0f8ff;border: 1px dotted black;border-radius: 0.25em;box-sizing: border-box;margin-bottom: 0.5em;}#sk-container-id-3 div.sk-estimator:hover {background-color: #d4ebff;}#sk-container-id-3 div.sk-parallel-item::after {content: \"\";width: 100%;border-bottom: 1px solid gray;flex-grow: 1;}#sk-container-id-3 div.sk-label:hover label.sk-toggleable__label {background-color: #d4ebff;}#sk-container-id-3 div.sk-serial::before {content: \"\";position: absolute;border-left: 1px solid gray;box-sizing: border-box;top: 0;bottom: 0;left: 50%;z-index: 0;}#sk-container-id-3 div.sk-serial {display: flex;flex-direction: column;align-items: center;background-color: white;padding-right: 0.2em;padding-left: 0.2em;position: relative;}#sk-container-id-3 div.sk-item {position: relative;z-index: 1;}#sk-container-id-3 div.sk-parallel {display: flex;align-items: stretch;justify-content: center;background-color: white;position: relative;}#sk-container-id-3 div.sk-item::before, #sk-container-id-3 div.sk-parallel-item::before {content: \"\";position: absolute;border-left: 1px solid gray;box-sizing: border-box;top: 0;bottom: 0;left: 50%;z-index: -1;}#sk-container-id-3 div.sk-parallel-item {display: flex;flex-direction: column;z-index: 1;position: relative;background-color: white;}#sk-container-id-3 div.sk-parallel-item:first-child::after {align-self: flex-end;width: 50%;}#sk-container-id-3 div.sk-parallel-item:last-child::after {align-self: flex-start;width: 50%;}#sk-container-id-3 div.sk-parallel-item:only-child::after {width: 0;}#sk-container-id-3 div.sk-dashed-wrapped {border: 1px dashed gray;margin: 0 0.4em 0.5em 0.4em;box-sizing: border-box;padding-bottom: 0.4em;background-color: white;}#sk-container-id-3 div.sk-label label {font-family: monospace;font-weight: bold;display: inline-block;line-height: 1.2em;}#sk-container-id-3 div.sk-label-container {text-align: center;}#sk-container-id-3 div.sk-container {/* jupyter's `normalize.less` sets `[hidden] { display: none; }` but bootstrap.min.css set `[hidden] { display: none !important; }` so we also need the `!important` here to be able to override the default hidden behavior on the sphinx rendered scikit-learn.org. See: https://github.com/scikit-learn/scikit-learn/issues/21755 */display: inline-block !important;position: relative;}#sk-container-id-3 div.sk-text-repr-fallback {display: none;}</style><div id=\"sk-container-id-3\" class=\"sk-top-container\"><div class=\"sk-text-repr-fallback\"><pre>GridSearchCV(estimator=LogisticRegression(max_iter=1000),\n",
       "             param_grid={&#x27;C&#x27;: [0.001, 0.01, 0.1, 1, 10],\n",
       "                         &#x27;solver&#x27;: [&#x27;newton-cg&#x27;, &#x27;sag&#x27;, &#x27;saga&#x27;, &#x27;lbfgs&#x27;]})</pre><b>In a Jupyter environment, please rerun this cell to show the HTML representation or trust the notebook. <br />On GitHub, the HTML representation is unable to render, please try loading this page with nbviewer.org.</b></div><div class=\"sk-container\" hidden><div class=\"sk-item sk-dashed-wrapped\"><div class=\"sk-label-container\"><div class=\"sk-label sk-toggleable\"><input class=\"sk-toggleable__control sk-hidden--visually\" id=\"sk-estimator-id-7\" type=\"checkbox\" ><label for=\"sk-estimator-id-7\" class=\"sk-toggleable__label sk-toggleable__label-arrow\">GridSearchCV</label><div class=\"sk-toggleable__content\"><pre>GridSearchCV(estimator=LogisticRegression(max_iter=1000),\n",
       "             param_grid={&#x27;C&#x27;: [0.001, 0.01, 0.1, 1, 10],\n",
       "                         &#x27;solver&#x27;: [&#x27;newton-cg&#x27;, &#x27;sag&#x27;, &#x27;saga&#x27;, &#x27;lbfgs&#x27;]})</pre></div></div></div><div class=\"sk-parallel\"><div class=\"sk-parallel-item\"><div class=\"sk-item\"><div class=\"sk-label-container\"><div class=\"sk-label sk-toggleable\"><input class=\"sk-toggleable__control sk-hidden--visually\" id=\"sk-estimator-id-8\" type=\"checkbox\" ><label for=\"sk-estimator-id-8\" class=\"sk-toggleable__label sk-toggleable__label-arrow\">estimator: LogisticRegression</label><div class=\"sk-toggleable__content\"><pre>LogisticRegression(max_iter=1000)</pre></div></div></div><div class=\"sk-serial\"><div class=\"sk-item\"><div class=\"sk-estimator sk-toggleable\"><input class=\"sk-toggleable__control sk-hidden--visually\" id=\"sk-estimator-id-9\" type=\"checkbox\" ><label for=\"sk-estimator-id-9\" class=\"sk-toggleable__label sk-toggleable__label-arrow\">LogisticRegression</label><div class=\"sk-toggleable__content\"><pre>LogisticRegression(max_iter=1000)</pre></div></div></div></div></div></div></div></div></div></div>"
      ],
      "text/plain": [
       "GridSearchCV(estimator=LogisticRegression(max_iter=1000),\n",
       "             param_grid={'C': [0.001, 0.01, 0.1, 1, 10],\n",
       "                         'solver': ['newton-cg', 'sag', 'saga', 'lbfgs']})"
      ]
     },
     "execution_count": 21,
     "metadata": {},
     "output_type": "execute_result"
    }
   ],
   "source": [
    "lr2 = LogisticRegression(max_iter = 1000)\n",
    "grid_lr2 = GridSearchCV(lr2, param_grid)\n",
    "grid_lr2.fit(train_vectors, y_train)"
   ]
  },
  {
   "cell_type": "code",
   "execution_count": 22,
   "metadata": {
    "colab": {
     "base_uri": "https://localhost:8080/"
    },
    "id": "te5JpePqiBBM",
    "outputId": "37de5b06-6155-4d53-b0d6-02af376b10ec"
   },
   "outputs": [
    {
     "name": "stdout",
     "output_type": "stream",
     "text": [
      "{'C': 10, 'solver': 'sag'}\n",
      "LogisticRegression(C=10, max_iter=1000, solver='sag')\n"
     ]
    }
   ],
   "source": [
    "bestParamsLr2 = grid_lr2.best_params_\n",
    "print (bestParamsLr2)\n",
    "\n",
    "bestEstLr2 = grid_lr2.best_estimator_\n",
    "print(bestEstLr2)"
   ]
  },
  {
   "cell_type": "code",
   "execution_count": 23,
   "metadata": {
    "colab": {
     "base_uri": "https://localhost:8080/"
    },
    "id": "c2Uz9uvaiA49",
    "outputId": "65e72f96-16a1-4096-a235-b297637b5d9f"
   },
   "outputs": [
    {
     "name": "stdout",
     "output_type": "stream",
     "text": [
      "All scores: [0.57077922 0.56915584 0.58149351 0.5711039  0.57662338 0.6012987\n",
      " 0.59480519 0.56461039 0.58181818 0.56818182]\n",
      "Average score: 0.5779870129870129\n"
     ]
    }
   ],
   "source": [
    "# Cross Validation Score\n",
    "scoreLr2 = cross_val_score(bestEstLr2, train_vectors, y_train, scoring='accuracy', cv=10)\n",
    "\n",
    "print ('All scores:', scoreLr2)\n",
    "print  ('Average score:', scoreLr2.mean())"
   ]
  },
  {
   "cell_type": "code",
   "execution_count": 24,
   "metadata": {
    "colab": {
     "base_uri": "https://localhost:8080/"
    },
    "id": "wOmX-4gVm9uk",
    "outputId": "f4488b23-ec7e-43f4-cde9-aabff1e7a0c4"
   },
   "outputs": [
    {
     "name": "stdout",
     "output_type": "stream",
     "text": [
      "[[2607 1156  637]\n",
      " [1438 2215  747]\n",
      " [ 755  844 2801]]\n"
     ]
    }
   ],
   "source": [
    "# # # Testing Set\n",
    "Lr_pred2 = bestEstLr2.predict(test_vectors)\n",
    "cmLr2 = confusion_matrix(y_test, Lr_pred2, labels = np.arange(0,3))\n",
    "\n",
    "print (cmLr2)"
   ]
  },
  {
   "cell_type": "code",
   "execution_count": 25,
   "metadata": {
    "colab": {
     "base_uri": "https://localhost:8080/",
     "height": 472
    },
    "id": "z_LvAErDm9j8",
    "outputId": "d6e4070f-5617-419c-c9fc-09877b355027"
   },
   "outputs": [
    {
     "data": {
      "image/png": "[encoded data removed]",
      "text/plain": [
       "<Figure size 640x480 with 2 Axes>"
      ]
     },
     "metadata": {},
     "output_type": "display_data"
    }
   ],
   "source": [
    "axLr2 = sns.heatmap(cmLr2, annot=True, annot_kws={'size': 9},fmt='g', xticklabels=target_names, yticklabels=target_names, cmap='Blues', linewidths=1, linecolor='black')\n",
    "axLr2.set_xlabel ('Predicted', fontsize=10)\n",
    "axLr2.set_ylabel('True', fontsize=10)\n",
    "plt.title ('Confusion Matrix - LR Testing Set')\n",
    "plt.axis()\n",
    "plt.show()"
   ]
  },
  {
   "cell_type": "code",
   "execution_count": 26,
   "metadata": {
    "colab": {
     "base_uri": "https://localhost:8080/"
    },
    "id": "Euh0yoLxnB_W",
    "outputId": "ad3090a3-729f-497b-ff74-3c215af4d52e"
   },
   "outputs": [
    {
     "name": "stdout",
     "output_type": "stream",
     "text": [
      "              precision    recall  f1-score   support\n",
      "\n",
      "    negative       0.54      0.59      0.57      4400\n",
      "     neutral       0.53      0.50      0.51      4400\n",
      "    positive       0.67      0.64      0.65      4400\n",
      "\n",
      "    accuracy                           0.58     13200\n",
      "   macro avg       0.58      0.58      0.58     13200\n",
      "weighted avg       0.58      0.58      0.58     13200\n",
      "\n"
     ]
    }
   ],
   "source": [
    "# Report Testing\n",
    "LrReport2 = classification_report(y_test, Lr_pred2, target_names=target_names)\n",
    "print(LrReport2)"
   ]
  },
  {
   "cell_type": "markdown",
   "metadata": {
    "id": "FRPtL3gUr33r"
   },
   "source": [
    "# CNN"
   ]
  },
  {
   "cell_type": "code",
   "execution_count": 27,
   "metadata": {
    "id": "y1EenKDWrrRV"
   },
   "outputs": [],
   "source": [
    "# Params for embedding matrix and layer\n",
    "max_num_words = 10000\n",
    "max_sequence = 50\n",
    "emb_dim = 300\n",
    "\n",
    "\n",
    "'''  ------ Tokenizer, sequences and more ------  '''\n",
    "\n",
    "tokenizer = Tokenizer(num_words=max_num_words)\n",
    "tokenizer.fit_on_texts(X_train)\n",
    "\n",
    "# Converting text to a vector of word indexes; will be used to get the vector\n",
    "# from w2v and to form the embedding matrix to feed the Embedding Layer\n",
    "train_sequences = tokenizer.texts_to_sequences(X_train)\n",
    "test_sequences = tokenizer.texts_to_sequences(X_test)\n",
    "word_index = tokenizer.word_index\n"
   ]
  },
  {
   "cell_type": "code",
   "execution_count": 28,
   "metadata": {
    "id": "RI5UJh6CrqmP"
   },
   "outputs": [],
   "source": [
    "''' -------- Padding ---------------'''\n",
    "\n",
    "X_train_final = pad_sequences(train_sequences, maxlen=max_sequence)\n",
    "X_test_final = pad_sequences(test_sequences, maxlen=max_sequence)\n",
    "\n",
    "\n",
    "''' --------- To Categorical -----------------'''\n",
    "y_trainCat = to_categorical(y_train, num_classes=3)\n",
    "y_testCat = to_categorical(y_test, num_classes=3)\n"
   ]
  },
  {
   "cell_type": "code",
   "execution_count": 29,
   "metadata": {
    "id": "DCidM4uMrqa4"
   },
   "outputs": [],
   "source": [
    "\n",
    "''' ---------------  Word2 Vec  ------------- '''\n",
    "\n",
    "'''\n",
    "word_index is a dictionary of all the unique words in the corpus with a unique\n",
    "integer number given by Keras' tokenizer.\n",
    "\n",
    "'''\n",
    "\n",
    "\n",
    "num_words_w2v = min(max_num_words, len(word_index)) + 1\n",
    "embedding_matrix_w2v = np.zeros((num_words_w2v, emb_dim))\n",
    "\n",
    "for key, val in word_index.items():\n",
    "    if val > max_num_words:\n",
    "        continue\n",
    "\n",
    "    if key in w2v_model:\n",
    "        embedding_vector= w2v_model.get_vector(key)\n",
    "    else:\n",
    "        embedding_vector = np.zeros(emb_dim)\n",
    "\n",
    "    embedding_matrix_w2v[val] = embedding_vector\n",
    "\n",
    "\n",
    "embedding_layer_w2v = Embedding(input_dim=num_words_w2v, output_dim=emb_dim,\n",
    "                          embeddings_initializer=Constant(embedding_matrix_w2v),\n",
    "                          input_length=max_sequence, trainable = False)"
   ]
  },
  {
   "cell_type": "code",
   "execution_count": 30,
   "metadata": {
    "colab": {
     "base_uri": "https://localhost:8080/"
    },
    "id": "WBGGI3spshw3",
    "outputId": "4feba3ef-b37d-4b12-b4df-832a2742c5d0"
   },
   "outputs": [
    {
     "name": "stdout",
     "output_type": "stream",
     "text": [
      "Epoch 1/15\n",
      "1540/1540 [==============================] - 49s 31ms/step - loss: 0.8579 - acc: 0.5816 - val_loss: 0.6340 - val_acc: 0.7443\n",
      "Epoch 2/15\n",
      "1540/1540 [==============================] - 51s 33ms/step - loss: 0.6518 - acc: 0.7148 - val_loss: 0.5474 - val_acc: 0.7680\n",
      "Epoch 3/15\n",
      "1540/1540 [==============================] - 50s 32ms/step - loss: 0.5744 - acc: 0.7560 - val_loss: 0.5099 - val_acc: 0.7940\n",
      "Epoch 4/15\n",
      "1540/1540 [==============================] - 46s 30ms/step - loss: 0.5290 - acc: 0.7782 - val_loss: 0.4741 - val_acc: 0.8047\n",
      "Epoch 5/15\n",
      "1540/1540 [==============================] - 48s 31ms/step - loss: 0.4846 - acc: 0.8018 - val_loss: 0.4578 - val_acc: 0.8185\n",
      "Epoch 6/15\n",
      "1540/1540 [==============================] - 49s 32ms/step - loss: 0.4522 - acc: 0.8191 - val_loss: 0.4304 - val_acc: 0.8300\n",
      "Epoch 7/15\n",
      "1540/1540 [==============================] - 54s 35ms/step - loss: 0.4172 - acc: 0.8360 - val_loss: 0.4290 - val_acc: 0.8282\n",
      "Epoch 8/15\n",
      "1540/1540 [==============================] - 51s 33ms/step - loss: 0.3902 - acc: 0.8491 - val_loss: 0.4137 - val_acc: 0.8453\n",
      "Epoch 9/15\n",
      "1540/1540 [==============================] - 48s 31ms/step - loss: 0.3632 - acc: 0.8611 - val_loss: 0.4109 - val_acc: 0.8365\n",
      "Epoch 10/15\n",
      "1540/1540 [==============================] - 49s 32ms/step - loss: 0.3399 - acc: 0.8729 - val_loss: 0.3955 - val_acc: 0.8545\n",
      "Epoch 11/15\n",
      "1540/1540 [==============================] - 54s 35ms/step - loss: 0.3171 - acc: 0.8791 - val_loss: 0.3914 - val_acc: 0.8596\n",
      "Epoch 12/15\n",
      "1540/1540 [==============================] - 50s 33ms/step - loss: 0.3016 - acc: 0.8886 - val_loss: 0.3920 - val_acc: 0.8581\n",
      "Epoch 13/15\n",
      "1540/1540 [==============================] - 49s 32ms/step - loss: 0.2864 - acc: 0.8963 - val_loss: 0.3667 - val_acc: 0.8683\n",
      "Epoch 14/15\n",
      "1540/1540 [==============================] - 50s 32ms/step - loss: 0.2709 - acc: 0.8994 - val_loss: 0.3849 - val_acc: 0.8513\n",
      "Epoch 15/15\n",
      "1540/1540 [==============================] - 52s 34ms/step - loss: 0.2643 - acc: 0.9041 - val_loss: 0.3774 - val_acc: 0.8636\n"
     ]
    },
    {
     "data": {
      "text/plain": [
       "<keras.src.callbacks.History at 0x7b636036cfa0>"
      ]
     },
     "execution_count": 30,
     "metadata": {},
     "output_type": "execute_result"
    }
   ],
   "source": [
    "\n",
    "cnn_model = Sequential()\n",
    "cnn_model.add(embedding_layer_w2v)\n",
    "cnn_model.add(Conv1D(256, 3, activation='relu', padding='same'))\n",
    "cnn_model.add(GlobalMaxPooling1D())\n",
    "cnn_model.add(Dropout(0.5))\n",
    "cnn_model.add(Dense(128, activation='relu'))\n",
    "cnn_model.add(Dropout(0.5))\n",
    "cnn_model.add(Dense(64, activation='relu'))\n",
    "cnn_model.add(Dropout(0.5))\n",
    "cnn_model.add(Dense(3, activation='softmax'))\n",
    "cnn_model.compile(loss='categorical_crossentropy', optimizer='adam', metrics=['acc'])\n",
    "\n",
    "early_stopping = EarlyStopping(monitor='val_loss', patience=3, restore_best_weights=True)\n",
    "\n",
    "cnn_model.fit(X_train_final, y_trainCat, batch_size=16, epochs=15, validation_split=0.2, callbacks=[early_stopping])\n"
   ]
  },
  {
   "cell_type": "code",
   "execution_count": 31,
   "metadata": {
    "colab": {
     "base_uri": "https://localhost:8080/"
    },
    "id": "KlgWGLehshoc",
    "outputId": "6019cbaa-b36e-4fe4-ed37-ea605f76357b"
   },
   "outputs": [
    {
     "name": "stdout",
     "output_type": "stream",
     "text": [
      "413/413 [==============================] - 8s 19ms/step - loss: 0.4055 - acc: 0.8586\n",
      "Test accuracy with CNN: 0.8586363792419434\n"
     ]
    }
   ],
   "source": [
    "score, acc = cnn_model.evaluate(X_test_final, y_testCat)\n",
    "print('Test accuracy with CNN:', acc)"
   ]
  },
  {
   "cell_type": "code",
   "execution_count": null,
   "metadata": {
    "id": "Kz2MeZG0uxA1"
   },
   "outputs": [],
   "source": []
  }
 ],
 "metadata": {
  "accelerator": "GPU",
  "colab": {
   "gpuType": "T4",
   "provenance": [],
   "toc_visible": true
  },
  "kernelspec": {
   "display_name": "Python 3 (ipykernel)",
   "language": "python",
   "name": "python3"
  },
  "language_info": {
   "codemirror_mode": {
    "name": "ipython",
    "version": 3
   },
   "file_extension": ".py",
   "mimetype": "text/x-python",
   "name": "python",
   "nbconvert_exporter": "python",
   "pygments_lexer": "ipython3",
   "version": "3.11.4"
  }
 },
 "nbformat": 4,
 "nbformat_minor": 1
}
